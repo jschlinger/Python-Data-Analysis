{
 "cells": [
  {
   "cell_type": "code",
   "execution_count": 7,
   "metadata": {},
   "outputs": [
    {
     "name": "stdout",
     "output_type": "stream",
     "text": [
      "Choose your fighter: rock\n",
      "you chose: rock\n",
      "the comp chose: rock\n",
      "Ha, I WIN! Game over\n"
     ]
    }
   ],
   "source": [
    "import random\n",
    "\n",
    "user = input(\"Choose your fighter: \")\n",
    "comp = random.choice( ['rock','paper','scissors'] )\n",
    "\n",
    "print('you chose:', user)\n",
    "print('the comp chose:', comp)\n",
    "\n",
    "if user == 'rock':\n",
    "    print('Ha, I WIN! Game over')\n"
   ]
  },
  {
   "cell_type": "code",
   "execution_count": 9,
   "metadata": {},
   "outputs": [
    {
     "name": "stdout",
     "output_type": "stream",
     "text": [
      "Still running...\n",
      "Play again? n\n"
     ]
    }
   ],
   "source": [
    " while True:\n",
    "        print (\"Still running...\")\n",
    "        response = input(\"Play again? \")\n",
    "        if response == 'n':\n",
    "            break"
   ]
  },
  {
   "cell_type": "code",
   "execution_count": null,
   "metadata": {},
   "outputs": [],
   "source": []
  },
  {
   "cell_type": "code",
   "execution_count": 12,
   "metadata": {},
   "outputs": [
    {
     "name": "stdout",
     "output_type": "stream",
     "text": [
      "[2, 5, 9]\n"
     ]
    }
   ],
   "source": [
    "P = [3,1,4,1,5,9]\n",
    "E = [2,7,1]\n",
    "\n",
    "# Example problem (problem 0):\n",
    "# Creating the list [2,5,9] from P and E\n",
    "answer0 = [ E[0] ] + P[-2:]     \n",
    "print(answer0)\n"
   ]
  },
  {
   "cell_type": "code",
   "execution_count": 14,
   "metadata": {
    "scrolled": true
   },
   "outputs": [
    {
     "name": "stdout",
     "output_type": "stream",
     "text": [
      "[2, 5, 9]\n"
     ]
    }
   ],
   "source": [
    "P = [3,1,4,1,5,9]\n",
    "E = [2,7,1]\n",
    "answer0 = [ E[0] ] + P[-2:]     \n",
    "print(answer0)"
   ]
  },
  {
   "cell_type": "code",
   "execution_count": 28,
   "metadata": {},
   "outputs": [
    {
     "name": "stdout",
     "output_type": "stream",
     "text": [
      "[7, 1]\n"
     ]
    }
   ],
   "source": [
    "answer1 = E[1:3]\n",
    "print(answer1)"
   ]
  },
  {
   "cell_type": "code",
   "execution_count": 36,
   "metadata": {},
   "outputs": [
    {
     "name": "stdout",
     "output_type": "stream",
     "text": [
      "[7, 1]\n"
     ]
    }
   ],
   "source": [
    "P = [3,1,4,1,5,9]\n",
    "E = [2,7,1]\n",
    "# Problem 1:\n",
    "# Creating the list [7,1] from P and E\n",
    "answer1 =  E[1:3]  # this is wrong - you'll fix it!\n",
    "print (answer1)"
   ]
  },
  {
   "cell_type": "code",
   "execution_count": 56,
   "metadata": {},
   "outputs": [
    {
     "name": "stdout",
     "output_type": "stream",
     "text": [
      "[9, 1, 1]\n"
     ]
    }
   ],
   "source": [
    "P = [3,1,4,1,5,9]\n",
    "E = [2,7,1]\n",
    "# Problem 2:\n",
    "# Creating the list [9,1,1] from P and E\n",
    "answer2 = P[5:] + E[2:] + E[2:]\n",
    "print (answer2)"
   ]
  },
  {
   "cell_type": "code",
   "execution_count": 58,
   "metadata": {},
   "outputs": [
    {
     "name": "stdout",
     "output_type": "stream",
     "text": [
      "[1, 4, 1, 5, 9]\n"
     ]
    }
   ],
   "source": [
    "P = [3,1,4,1,5,9]\n",
    "E = [2,7,1]\n",
    "# Problem 3:\n",
    "# Creating the list [1,4,1,5,9] from P and E\n",
    "answer3 = P[1:]\n",
    "print (answer3)"
   ]
  },
  {
   "cell_type": "code",
   "execution_count": 120,
   "metadata": {},
   "outputs": [
    {
     "name": "stdout",
     "output_type": "stream",
     "text": [
      "[1, 2, 3, 4, 5]\n"
     ]
    }
   ],
   "source": [
    "P = [3,1,4,1,5,9]\n",
    "E = [2,7,1]\n",
    "# Problem 4:\n",
    "# Creating the list [1,2,3,4,5] from P and E\n",
    "answer4 = E[2:] + E[:-2] + P[:-5] + P[2:-3] + P[4:-1]\n",
    "                            \n",
    "print (answer4)"
   ]
  },
  {
   "cell_type": "code",
   "execution_count": null,
   "metadata": {},
   "outputs": [],
   "source": []
  },
  {
   "cell_type": "code",
   "execution_count": 126,
   "metadata": {},
   "outputs": [
    {
     "name": "stdout",
     "output_type": "stream",
     "text": [
      "universe\n"
     ]
    }
   ],
   "source": [
    "# starting strings for hw2pr2:\n",
    "s = 'san'\n",
    "f = 'francisco'\n",
    "t= 'state'\n",
    "u = 'university'\n",
    "\n",
    "# Problem 5:\n",
    "# Creating the string 'universe'\n",
    "answer5 = u[:7] + t[-1]\n",
    "print (answer5)"
   ]
  },
  {
   "cell_type": "code",
   "execution_count": 129,
   "metadata": {},
   "outputs": [
    {
     "name": "stdout",
     "output_type": "stream",
     "text": [
      "universe\n"
     ]
    }
   ],
   "source": [
    "# Problem 5:\n",
    "# Creating the string 'universe'\n",
    "answer5 = u[:7] + t[-1]\n",
    "print (answer5)"
   ]
  },
  {
   "cell_type": "code",
   "execution_count": 134,
   "metadata": {},
   "outputs": [
    {
     "name": "stdout",
     "output_type": "stream",
     "text": [
      "rainy\n"
     ]
    }
   ],
   "source": [
    "# Problem 6:\n",
    "# Creating the string 'rainy'\n",
    "answer6 = f[1:3] + f[-4] + u[1] +u[-1]\n",
    "print (answer6)"
   ]
  },
  {
   "cell_type": "code",
   "execution_count": 138,
   "metadata": {},
   "outputs": [
    {
     "name": "stdout",
     "output_type": "stream",
     "text": [
      "steven\n"
     ]
    }
   ],
   "source": [
    "# Problem 7:\n",
    "# Creating the string 'steven'\n",
    "answer7 = t[0:2] + t[-1] + u[3:-5] + s[-1]\n",
    "print (answer7)"
   ]
  },
  {
   "cell_type": "code",
   "execution_count": 142,
   "metadata": {},
   "outputs": [
    {
     "name": "stdout",
     "output_type": "stream",
     "text": [
      "francine\n"
     ]
    }
   ],
   "source": [
    "# Problem 8:\n",
    "# Creating the string 'francine'\n",
    "answer8 = f[0:6] + u[1] + u[4]\n",
    "print (answer8)"
   ]
  },
  {
   "cell_type": "code",
   "execution_count": 146,
   "metadata": {},
   "outputs": [
    {
     "name": "stdout",
     "output_type": "stream",
     "text": [
      "yoonoo\n"
     ]
    }
   ],
   "source": [
    "# Problem 9:\n",
    "# Creating the string 'yoonoo'\n",
    "answer9 = u[-1] + f[-1]*2 + u[1] + f[-1]*2\n",
    "print (answer9)"
   ]
  },
  {
   "cell_type": "code",
   "execution_count": 147,
   "metadata": {},
   "outputs": [
    {
     "name": "stdout",
     "output_type": "stream",
     "text": [
      "toe\n"
     ]
    }
   ],
   "source": [
    "# Problem 10:\n",
    "# Creating the string 'toe'\n",
    "answer10 = t[1] + f[-1] + t[-1]\n",
    "print (answer10)"
   ]
  },
  {
   "cell_type": "code",
   "execution_count": null,
   "metadata": {},
   "outputs": [],
   "source": []
  }
 ],
 "metadata": {
  "kernelspec": {
   "display_name": "Python 3",
   "language": "python",
   "name": "python3"
  },
  "language_info": {
   "codemirror_mode": {
    "name": "ipython",
    "version": 3
   },
   "file_extension": ".py",
   "mimetype": "text/x-python",
   "name": "python",
   "nbconvert_exporter": "python",
   "pygments_lexer": "ipython3",
   "version": "3.7.1"
  }
 },
 "nbformat": 4,
 "nbformat_minor": 2
}
