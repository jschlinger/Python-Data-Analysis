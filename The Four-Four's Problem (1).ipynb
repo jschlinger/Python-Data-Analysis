{
 "cells": [
  {
   "cell_type": "code",
   "execution_count": 6,
   "metadata": {},
   "outputs": [
    {
     "name": "stdout",
     "output_type": "stream",
     "text": [
      "Hello Professor, my name is Jacqueline Schlinger\n"
     ]
    }
   ],
   "source": [
    "print(\"Hello Professor, my name is Jacqueline Schlinger\")"
   ]
  },
  {
   "cell_type": "code",
   "execution_count": 7,
   "metadata": {},
   "outputs": [
    {
     "name": "stdout",
     "output_type": "stream",
     "text": [
      "500\n"
     ]
    }
   ],
   "source": [
    "print (100*5)"
   ]
  },
  {
   "cell_type": "code",
   "execution_count": 8,
   "metadata": {},
   "outputs": [
    {
     "name": "stdout",
     "output_type": "stream",
     "text": [
      "10000000000000000000000000000000000000000000000000000000000000000000000000000000000000000000000000000\n"
     ]
    }
   ],
   "source": [
    "print(10**100)"
   ]
  },
  {
   "cell_type": "code",
   "execution_count": 10,
   "metadata": {},
   "outputs": [
    {
     "name": "stdout",
     "output_type": "stream",
     "text": [
      "Zero is 0\n"
     ]
    }
   ],
   "source": [
    "print(\"Zero is\", 4+4-4-4)"
   ]
  },
  {
   "cell_type": "code",
   "execution_count": 4,
   "metadata": {},
   "outputs": [
    {
     "name": "stdout",
     "output_type": "stream",
     "text": [
      "One is 1.0\n"
     ]
    }
   ],
   "source": [
    "print(\"One is\",(4+4)/(4+4))"
   ]
  },
  {
   "cell_type": "code",
   "execution_count": 5,
   "metadata": {},
   "outputs": [
    {
     "name": "stdout",
     "output_type": "stream",
     "text": [
      "Two is 2.0\n"
     ]
    }
   ],
   "source": [
    "print(\"Two is\", (4/4)+(4/4))"
   ]
  },
  {
   "cell_type": "code",
   "execution_count": 10,
   "metadata": {},
   "outputs": [
    {
     "name": "stdout",
     "output_type": "stream",
     "text": [
      "Three is 3\n"
     ]
    }
   ],
   "source": [
    "print(\"Three is\", 4-(4**(4-4)))"
   ]
  },
  {
   "cell_type": "code",
   "execution_count": 11,
   "metadata": {},
   "outputs": [
    {
     "name": "stdout",
     "output_type": "stream",
     "text": [
      "Four is 4\n"
     ]
    }
   ],
   "source": [
    "print(\"Four is\", 4+((4-4)*4))"
   ]
  },
  {
   "cell_type": "code",
   "execution_count": 12,
   "metadata": {},
   "outputs": [
    {
     "name": "stdout",
     "output_type": "stream",
     "text": [
      "Five is 5\n"
     ]
    }
   ],
   "source": [
    "print(\"Five is\", 4+(4**(4-4)))"
   ]
  },
  {
   "cell_type": "code",
   "execution_count": 13,
   "metadata": {},
   "outputs": [
    {
     "name": "stdout",
     "output_type": "stream",
     "text": [
      "Six is 6.0\n"
     ]
    }
   ],
   "source": [
    "print(\"Six is\", 4+((4+4)/4))"
   ]
  },
  {
   "cell_type": "code",
   "execution_count": 16,
   "metadata": {},
   "outputs": [
    {
     "name": "stdout",
     "output_type": "stream",
     "text": [
      "Seven is 7.0\n"
     ]
    }
   ],
   "source": [
    "print(\"Seven is\", (4+4)-(4/4))"
   ]
  },
  {
   "cell_type": "code",
   "execution_count": 17,
   "metadata": {},
   "outputs": [
    {
     "name": "stdout",
     "output_type": "stream",
     "text": [
      "Eight is 8\n"
     ]
    }
   ],
   "source": [
    "print(\"Eight is\", (4+4)-(4-4))"
   ]
  },
  {
   "cell_type": "code",
   "execution_count": 20,
   "metadata": {},
   "outputs": [
    {
     "name": "stdout",
     "output_type": "stream",
     "text": [
      "Nine is 9.0\n"
     ]
    }
   ],
   "source": [
    "print(\"Nine is\", (4+4)+(4/4))"
   ]
  },
  {
   "cell_type": "code",
   "execution_count": 22,
   "metadata": {},
   "outputs": [
    {
     "name": "stdout",
     "output_type": "stream",
     "text": [
      "Ten is 10.0\n"
     ]
    }
   ],
   "source": [
    "print(\"Ten is\", (44-4)/4)"
   ]
  },
  {
   "cell_type": "code",
   "execution_count": 37,
   "metadata": {},
   "outputs": [
    {
     "name": "stdout",
     "output_type": "stream",
     "text": [
      "4! is 24\n",
      "the square root of 4 is 2.0\n"
     ]
    }
   ],
   "source": [
    "import math\n",
    "print(\"4! is\", math.factorial(4))\n",
    "print(\"the square root of 4 is\", math.sqrt(4))\n"
   ]
  },
  {
   "cell_type": "code",
   "execution_count": 39,
   "metadata": {},
   "outputs": [
    {
     "name": "stdout",
     "output_type": "stream",
     "text": [
      "Eleven is 11.0\n"
     ]
    }
   ],
   "source": [
    "print(\"Eleven is\", 44/(math.sqrt(4)*math.sqrt(4)))"
   ]
  },
  {
   "cell_type": "code",
   "execution_count": 45,
   "metadata": {},
   "outputs": [
    {
     "name": "stdout",
     "output_type": "stream",
     "text": [
      "Twelve is 12.0\n"
     ]
    }
   ],
   "source": [
    "print(\"Twelve is\", 4*(4-(4/4)))"
   ]
  },
  {
   "cell_type": "code",
   "execution_count": 46,
   "metadata": {},
   "outputs": [
    {
     "name": "stdout",
     "output_type": "stream",
     "text": [
      "Thirteen is 13.0\n"
     ]
    }
   ],
   "source": [
    "print(\"Thirteen is\", (44/4)+math.sqrt(4))"
   ]
  },
  {
   "cell_type": "code",
   "execution_count": 49,
   "metadata": {},
   "outputs": [
    {
     "name": "stdout",
     "output_type": "stream",
     "text": [
      "Fourteen is 14.0\n"
     ]
    }
   ],
   "source": [
    "print(\"Fourteen is\", (4+4+4+math.sqrt(4)))"
   ]
  },
  {
   "cell_type": "code",
   "execution_count": 51,
   "metadata": {},
   "outputs": [
    {
     "name": "stdout",
     "output_type": "stream",
     "text": [
      "Fifteen is 15.0\n"
     ]
    }
   ],
   "source": [
    "print(\"Fifteen is\", (44/4)+4)"
   ]
  },
  {
   "cell_type": "code",
   "execution_count": 54,
   "metadata": {},
   "outputs": [
    {
     "name": "stdout",
     "output_type": "stream",
     "text": [
      "Sixteen is 16.0\n"
     ]
    }
   ],
   "source": [
    "print(\"Sixteen is\", (4**(4/4)*4))"
   ]
  },
  {
   "cell_type": "code",
   "execution_count": 56,
   "metadata": {},
   "outputs": [
    {
     "name": "stdout",
     "output_type": "stream",
     "text": [
      "Seventeen is 17.0\n"
     ]
    }
   ],
   "source": [
    "print(\"Seventeen is\", (4*4)+(4/4))"
   ]
  },
  {
   "cell_type": "code",
   "execution_count": 57,
   "metadata": {},
   "outputs": [
    {
     "name": "stdout",
     "output_type": "stream",
     "text": [
      "Eighteen is 18.0\n"
     ]
    }
   ],
   "source": [
    "print(\"Eighteen is\", (4*4+4-math.sqrt(4)))"
   ]
  },
  {
   "cell_type": "code",
   "execution_count": 58,
   "metadata": {},
   "outputs": [
    {
     "name": "stdout",
     "output_type": "stream",
     "text": [
      "Nineteen is 19.0\n"
     ]
    }
   ],
   "source": [
    "print(\"Nineteen is\", math.factorial(4)-4-(4/4))"
   ]
  },
  {
   "cell_type": "code",
   "execution_count": 59,
   "metadata": {},
   "outputs": [
    {
     "name": "stdout",
     "output_type": "stream",
     "text": [
      "Twenty is 20.0\n"
     ]
    }
   ],
   "source": [
    "print(\"Twenty is\", (4*4)+math.sqrt(4)+math.sqrt(4))"
   ]
  },
  {
   "cell_type": "code",
   "execution_count": null,
   "metadata": {},
   "outputs": [],
   "source": []
  },
  {
   "cell_type": "code",
   "execution_count": 62,
   "metadata": {},
   "outputs": [
    {
     "name": "stdout",
     "output_type": "stream",
     "text": [
      "Hi...what is your name? Au\n",
      "\n",
      "Au?  Is it August? Aubrey? Automobile?\n",
      "No?\n",
      "Whatever.\n"
     ]
    }
   ],
   "source": [
    "import random           # a random library\n",
    "\n",
    "name = input('Hi...what is your name? ')\n",
    "print()\n",
    "\n",
    "if name == 'Tom Cruise' or name == 'Gal Gadot':\n",
    "    print('Nice to meet you!')\n",
    "    \n",
    "elif name == 'Au':\n",
    "    print('Au?  Is it August? Aubrey? Automobile?')\n",
    "    print('No?')\n",
    "    print('Whatever.')\n",
    "    \n",
    "else:\n",
    "    print('Welcome,', name)\n",
    "    my_choice = random.choice( ['rock','paper','scissors'] )\n",
    "    print('By the way, I choose ', my_choice)\n"
   ]
  },
  {
   "cell_type": "code",
   "execution_count": null,
   "metadata": {},
   "outputs": [],
   "source": [
    "import random           # a random library\n",
    "\n",
    "name = input('Hi...what is your name? ')\n",
    "print()\n",
    "\n",
    "if name == 'Tom Cruise' or name == 'Gal Gadot':\n",
    "    print('Nice to meet you!')\n",
    "    \n",
    "elif name = 'Au':\n",
    "    print('Au?  Is it August? Aubrey? Automobile?')\n",
    "    print('No?')\n",
    "    print('Whatever.')\n",
    "    \n",
    "else:\n",
    "    print('Welcome,', name)\n",
    "    my_choice = random.choice( ['rock','paper','scissors'] )\n",
    "    print('By the way, I choose ', my_choice)\n"
   ]
  },
  {
   "cell_type": "code",
   "execution_count": null,
   "metadata": {},
   "outputs": [],
   "source": []
  }
 ],
 "metadata": {
  "kernelspec": {
   "display_name": "Python 3",
   "language": "python",
   "name": "python3"
  },
  "language_info": {
   "codemirror_mode": {
    "name": "ipython",
    "version": 3
   },
   "file_extension": ".py",
   "mimetype": "text/x-python",
   "name": "python",
   "nbconvert_exporter": "python",
   "pygments_lexer": "ipython3",
   "version": "3.7.1"
  }
 },
 "nbformat": 4,
 "nbformat_minor": 2
}
